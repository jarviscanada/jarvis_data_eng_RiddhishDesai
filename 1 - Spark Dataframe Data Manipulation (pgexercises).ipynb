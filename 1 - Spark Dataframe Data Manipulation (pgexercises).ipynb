{
 "cells": [
  {
   "cell_type": "markdown",
   "metadata": {
    "application/vnd.databricks.v1+cell": {
     "cellMetadata": {
      "byteLimit": 2048000,
      "rowLimit": 10000
     },
     "inputWidgets": {},
     "nuid": "53193039-ba28-4c23-92e7-d4109013bb0c",
     "showTitle": false,
     "title": ""
    }
   },
   "source": [
    "# Learning Objectives\n",
    "In this notebook, you will learn Spark Dataframe APIs.\n",
    "\n",
    "# Question List\n",
    "\n",
    "Solve the following questions using Spark Dataframe APIs\n",
    "\n",
    "### Join\n",
    "\n",
    "1. easy - https://pgexercises.com/questions/joins/simplejoin.html\n",
    "2. easy - https://pgexercises.com/questions/joins/simplejoin2.html\n",
    "3. easy - https://pgexercises.com/questions/joins/self2.html \n",
    "4. medium - https://pgexercises.com/questions/joins/threejoin.html (three join)\n",
    "5. medium - https://pgexercises.com/questions/joins/sub.html (subquery and join)\n",
    "\n",
    "### Aggregation\n",
    "\n",
    "1. easy - https://pgexercises.com/questions/aggregates/count3.html Group by order by\n",
    "2. easy - https://pgexercises.com/questions/aggregates/fachours.html group by order by\n",
    "3. easy - https://pgexercises.com/questions/aggregates/fachoursbymonth.html group by with condition \n",
    "4. easy - https://pgexercises.com/questions/aggregates/fachoursbymonth2.html group by multi col\n",
    "5. easy - https://pgexercises.com/questions/aggregates/members1.html count distinct\n",
    "6. med - https://pgexercises.com/questions/aggregates/nbooking.html group by multiple cols, join\n",
    "\n",
    "### String & Date\n",
    "\n",
    "1. easy - https://pgexercises.com/questions/string/concat.html format string\n",
    "2. easy - https://pgexercises.com/questions/string/case.html WHERE + string function\n",
    "3. easy - https://pgexercises.com/questions/string/reg.html WHERE + string function\n",
    "4. easy - https://pgexercises.com/questions/string/substr.html group by, substr\n",
    "5. easy - https://pgexercises.com/questions/date/series.html generate ts\n",
    "6. easy - https://pgexercises.com/questions/date/bookingspermonth.html extract month from ts"
   ]
  },
  {
   "cell_type": "markdown",
   "metadata": {
    "application/vnd.databricks.v1+cell": {
     "cellMetadata": {
      "byteLimit": 2048000,
      "rowLimit": 10000
     },
     "inputWidgets": {},
     "nuid": "5af8ed8a-34dc-4766-a62b-cdc1dfd2ec41",
     "showTitle": false,
     "title": ""
    }
   },
   "source": [
    "### Question\n",
    "\n",
    "How can you produce a list of the start times for bookings by members named 'David Farrell'?\n",
    "\n",
    "https://pgexercises.com/questions/joins/simplejoin.html"
   ]
  },
  {
   "cell_type": "code",
   "execution_count": 0,
   "metadata": {
    "application/vnd.databricks.v1+cell": {
     "cellMetadata": {
      "byteLimit": 2048000,
      "implicitDf": true,
      "rowLimit": 10000
     },
     "inputWidgets": {},
     "nuid": "cd26e494-0ac0-4d54-b463-563b18d5d371",
     "showTitle": false,
     "title": ""
    }
   },
   "outputs": [
    {
     "output_type": "stream",
     "name": "stdout",
     "output_type": "stream",
     "text": [
      "+------+-----+-----+-------------------+-----+\n|bookid|facid|memid|          starttime|slots|\n+------+-----+-----+-------------------+-----+\n|     0|    3|    1|2012-07-03 11:00:00|    2|\n|     1|    4|    1|2012-07-03 08:00:00|    2|\n|     2|    6|    0|2012-07-03 18:00:00|    2|\n|     3|    7|    1|2012-07-03 19:00:00|    2|\n|     4|    8|    1|2012-07-03 10:00:00|    1|\n+------+-----+-----+-------------------+-----+\nonly showing top 5 rows\n\n+-----+--------+---------+--------------------+-------+--------------+-------------+-------------------+\n|memid| surname|firstname|             address|zipcode|     telephone|recommendedby|           joindate|\n+-----+--------+---------+--------------------+-------+--------------+-------------+-------------------+\n|    0|   GUEST|    GUEST|               GUEST|      0|(000) 000-0000|         null|2012-07-01 00:00:00|\n|    1|   Smith|   Darren|8 Bloomsbury Clos...|   4321|  555-555-5555|         null|2012-07-02 12:02:00|\n|    2|   Smith|    Tracy|8 Bloomsbury Clos...|   4321|  555-555-5555|         null|2012-07-02 12:08:00|\n|    3|  Rownam|      Tim|23 Highway Way, B...|  23423|(844) 693-0723|         null|2012-07-03 09:32:00|\n|    4|Joplette|   Janice|20 Crossing Road,...|    234|(833) 942-4710|            1|2012-07-03 10:25:00|\n+-----+--------+---------+--------------------+-------+--------------+-------------+-------------------+\nonly showing top 5 rows\n\n+-----+--------+---------+--------------------+-------+--------------+-------------+-------------------+\n|memid| surname|firstname|             address|zipcode|     telephone|recommendedby|           joindate|\n+-----+--------+---------+--------------------+-------+--------------+-------------+-------------------+\n|    0|   GUEST|    GUEST|               GUEST|      0|(000) 000-0000|         null|2012-07-01 00:00:00|\n|    1|   Smith|   Darren|8 Bloomsbury Clos...|   4321|  555-555-5555|         null|2012-07-02 12:02:00|\n|    2|   Smith|    Tracy|8 Bloomsbury Clos...|   4321|  555-555-5555|         null|2012-07-02 12:08:00|\n|    3|  Rownam|      Tim|23 Highway Way, B...|  23423|(844) 693-0723|         null|2012-07-03 09:32:00|\n|    4|Joplette|   Janice|20 Crossing Road,...|    234|(833) 942-4710|            1|2012-07-03 10:25:00|\n+-----+--------+---------+--------------------+-------+--------------+-------------+-------------------+\nonly showing top 5 rows\n\n+-----+---------------+----------+---------+-------------+------------------+\n|facid|           name|membercost|guestcost|initialoutlay|monthlymaintenance|\n+-----+---------------+----------+---------+-------------+------------------+\n|    0| Tennis Court 1|       5.0|     25.0|        10000|               200|\n|    1| Tennis Court 2|       5.0|     25.0|         8000|               200|\n|    2|Badminton Court|       0.0|     15.5|         4000|                50|\n|    3|   Table Tennis|       0.0|      5.0|          320|                10|\n|    4| Massage Room 1|      35.0|     80.0|         4000|              3000|\n+-----+---------------+----------+---------+-------------+------------------+\nonly showing top 5 rows\n\n"
     ]
    }
   ],
   "source": [
    "\n",
    "bk = spark.sql(\"select * from booking\")\n",
    "bk.show(5)\n",
    "mem= spark.sql(\"SELECT* FROM members\")\n",
    "mem.show(5)\n",
    "mem1= spark.sql(\"SELECT* FROM members\")\n",
    "mem1.show(5)\n",
    "fac= spark.sql(\"select * from facilities\")\n",
    "fac.show(5)"
   ]
  },
  {
   "cell_type": "markdown",
   "metadata": {
    "application/vnd.databricks.v1+cell": {
     "cellMetadata": {
      "byteLimit": 2048000,
      "rowLimit": 10000
     },
     "inputWidgets": {},
     "nuid": "ff72e52d-1973-4b94-bc0e-87b1e12b2a54",
     "showTitle": false,
     "title": ""
    }
   },
   "source": [
    "### Join"
   ]
  },
  {
   "cell_type": "code",
   "execution_count": 0,
   "metadata": {
    "application/vnd.databricks.v1+cell": {
     "cellMetadata": {
      "byteLimit": 2048000,
      "rowLimit": 10000
     },
     "inputWidgets": {},
     "nuid": "f864eedf-7293-4705-8a7d-eefa2b8941c8",
     "showTitle": false,
     "title": ""
    }
   },
   "outputs": [
    {
     "output_type": "stream",
     "name": "stdout",
     "output_type": "stream",
     "text": [
      "+-------------------+\n|          starttime|\n+-------------------+\n|2012-09-18 09:00:00|\n|2012-09-18 17:30:00|\n|2012-09-18 13:30:00|\n|2012-09-18 20:00:00|\n|2012-09-19 09:30:00|\n|2012-09-19 15:00:00|\n|2012-09-19 12:00:00|\n|2012-09-20 15:30:00|\n|2012-09-20 11:30:00|\n|2012-09-20 14:00:00|\n|2012-09-21 10:30:00|\n|2012-09-21 14:00:00|\n|2012-09-22 08:30:00|\n|2012-09-22 17:00:00|\n|2012-09-23 08:30:00|\n|2012-09-23 17:30:00|\n|2012-09-23 19:00:00|\n|2012-09-24 08:00:00|\n|2012-09-24 16:30:00|\n|2012-09-24 12:30:00|\n+-------------------+\nonly showing top 20 rows\n\n"
     ]
    }
   ],
   "source": [
    "#How can you produce a list of the start times for bookings by members named 'David Farrell'?\n",
    "\n",
    "david= bk.join(mem, bk.memid== mem.memid, 'inner').select(bk.starttime)\n",
    "david.filter((mem.surname=='Farrell') & (mem.firstname== 'David')).show()"
   ]
  },
  {
   "cell_type": "code",
   "execution_count": 0,
   "metadata": {
    "application/vnd.databricks.v1+cell": {
     "cellMetadata": {
      "byteLimit": 2048000,
      "rowLimit": 10000
     },
     "inputWidgets": {},
     "nuid": "659d400f-4229-494e-a3f8-ff006654c160",
     "showTitle": false,
     "title": ""
    }
   },
   "outputs": [
    {
     "output_type": "stream",
     "name": "stdout",
     "output_type": "stream",
     "text": [
      "+-------------------+--------------+\n|               Time|          name|\n+-------------------+--------------+\n|2012-09-21 08:00:00|Tennis Court 1|\n|2012-09-21 08:00:00|Tennis Court 2|\n|2012-09-21 09:30:00|Tennis Court 1|\n|2012-09-21 10:00:00|Tennis Court 2|\n|2012-09-21 11:30:00|Tennis Court 2|\n|2012-09-21 12:00:00|Tennis Court 1|\n|2012-09-21 13:30:00|Tennis Court 1|\n|2012-09-21 14:00:00|Tennis Court 2|\n|2012-09-21 15:30:00|Tennis Court 1|\n|2012-09-21 16:00:00|Tennis Court 2|\n|2012-09-21 17:00:00|Tennis Court 1|\n|2012-09-21 18:00:00|Tennis Court 2|\n+-------------------+--------------+\n\n"
     ]
    }
   ],
   "source": [
    "#How can you produce a list of the start times for bookings for tennis courts, for the date '2012-09-21'? Return a list of start time and facility name pairings, ordered by the time.\n",
    "\n",
    "li= ['Tennis Court 1','Tennis Court 2']\n",
    "tennis= bk.join(fac, bk.facid== fac.facid, 'inner').select(bk.starttime.alias('Time'),fac.name)\n",
    "tennis.filter((bk.starttime >='2012-09-21') & (bk.starttime < '2012-09-22') & (fac.name.isin(li))).orderBy(bk.starttime).show()\n"
   ]
  },
  {
   "cell_type": "code",
   "execution_count": 0,
   "metadata": {
    "application/vnd.databricks.v1+cell": {
     "cellMetadata": {
      "byteLimit": 2048000,
      "rowLimit": 10000
     },
     "inputWidgets": {},
     "nuid": "2220ec9e-e831-4dac-a3ce-3756ed1ff7eb",
     "showTitle": false,
     "title": ""
    }
   },
   "outputs": [
    {
     "output_type": "stream",
     "name": "stdout",
     "output_type": "stream",
     "text": [
      "+---------+---------+---------+--------+\n| memfname| memsname| recfname|recsname|\n+---------+---------+---------+--------+\n| Florence|    Bader|   Ponder|Stibbons|\n|     Anne|    Baker|   Ponder|Stibbons|\n|  Timothy|    Baker|   Jemima| Farrell|\n|      Tim|   Boothe|      Tim|  Rownam|\n|   Gerald|  Butters|   Darren|   Smith|\n|     Joan|   Coplin|  Timothy|   Baker|\n|    Erica|  Crumpet|    Tracy|   Smith|\n|    Nancy|     Dare|   Janice|Joplette|\n|    David|  Farrell|     null|    null|\n|   Jemima|  Farrell|     null|    null|\n|    GUEST|    GUEST|     null|    null|\n|  Matthew|  Genting|   Gerald| Butters|\n|     John|     Hunt|Millicent| Purview|\n|    David|    Jones|   Janice|Joplette|\n|  Douglas|    Jones|    David|   Jones|\n|   Janice| Joplette|   Darren|   Smith|\n|     Anna|Mackenzie|   Darren|   Smith|\n|  Charles|     Owen|   Darren|   Smith|\n|    David|   Pinker|   Jemima| Farrell|\n|Millicent|  Purview|    Tracy|   Smith|\n+---------+---------+---------+--------+\nonly showing top 20 rows\n\n"
     ]
    }
   ],
   "source": [
    "#How can you output a list of all members, including the individual who recommended them (if any)? Ensure that results are ordered by (surname, firstname).\n",
    "\n",
    "mem.join(mem1, mem1.memid==mem.recommendedby, 'left').select(mem.firstname.alias('memfname'),mem.surname.alias('memsname'),mem1.firstname.alias('recfname'),mem1.surname.alias('recsname')).orderBy('memsname','memfname').show()"
   ]
  },
  {
   "cell_type": "code",
   "execution_count": 0,
   "metadata": {
    "application/vnd.databricks.v1+cell": {
     "cellMetadata": {
      "byteLimit": 2048000,
      "rowLimit": 10000
     },
     "inputWidgets": {},
     "nuid": "2d9a7abd-12cf-479d-a846-60b7d6da9bfd",
     "showTitle": false,
     "title": ""
    }
   },
   "outputs": [
    {
     "output_type": "stream",
     "name": "stdout",
     "output_type": "stream",
     "text": [
      "+--------------+--------------+\n|          Name|      facility|\n+--------------+--------------+\n|    Anne Baker|Tennis Court 1|\n|    Anne Baker|Tennis Court 2|\n|  Burton Tracy|Tennis Court 1|\n|  Burton Tracy|Tennis Court 2|\n|  Charles Owen|Tennis Court 1|\n|  Charles Owen|Tennis Court 2|\n|  Darren Smith|Tennis Court 2|\n| David Farrell|Tennis Court 1|\n| David Farrell|Tennis Court 2|\n|   David Jones|Tennis Court 1|\n|   David Jones|Tennis Court 2|\n|  David Pinker|Tennis Court 1|\n| Douglas Jones|Tennis Court 1|\n| Erica Crumpet|Tennis Court 1|\n|Florence Bader|Tennis Court 1|\n|Florence Bader|Tennis Court 2|\n|   GUEST GUEST|Tennis Court 1|\n|   GUEST GUEST|Tennis Court 2|\n|Gerald Butters|Tennis Court 1|\n|Gerald Butters|Tennis Court 2|\n+--------------+--------------+\nonly showing top 20 rows\n\n"
     ]
    }
   ],
   "source": [
    "#How can you produce a list of all members who have used a tennis court? Include in your output the name of the court, and the name of the member formatted as a single column. Ensure no duplicate data, and order by the member name followed by the facility name.\n",
    "\n",
    "from pyspark.sql.functions import concat,concat_ws,asc,desc\n",
    "\n",
    "li= ['Tennis Court 1','Tennis Court 2']\n",
    "\n",
    "data = mem.join(bk, mem.memid==bk.memid, 'inner')\\\n",
    ".join(fac, bk.facid==fac.facid, 'inner')\n",
    "\n",
    "data1= data.select(concat_ws(' ',mem.firstname, mem.surname).alias('Name'),fac.name.alias('facility')).filter((fac.name.isin(li)))\n",
    "\n",
    "data1.distinct().orderBy('Name','facility').show()"
   ]
  },
  {
   "cell_type": "code",
   "execution_count": 0,
   "metadata": {
    "application/vnd.databricks.v1+cell": {
     "cellMetadata": {
      "byteLimit": 2048000,
      "rowLimit": 10000
     },
     "inputWidgets": {},
     "nuid": "5acdc588-611d-441c-9bf1-631974e54ea7",
     "showTitle": false,
     "title": ""
    }
   },
   "outputs": [
    {
     "output_type": "stream",
     "name": "stdout",
     "output_type": "stream",
     "text": [
      "+--------------+--------------+\n|        member|      facility|\n+--------------+--------------+\n|    Anne Baker|Tennis Court 1|\n|    Anne Baker|Tennis Court 2|\n|  Burton Tracy|Tennis Court 1|\n|  Burton Tracy|Tennis Court 2|\n|  Charles Owen|Tennis Court 1|\n|  Charles Owen|Tennis Court 2|\n|  Darren Smith|Tennis Court 2|\n| David Farrell|Tennis Court 1|\n| David Farrell|Tennis Court 2|\n|   David Jones|Tennis Court 1|\n|   David Jones|Tennis Court 2|\n|  David Pinker|Tennis Court 1|\n| Douglas Jones|Tennis Court 1|\n| Erica Crumpet|Tennis Court 1|\n|Florence Bader|Tennis Court 1|\n|Florence Bader|Tennis Court 2|\n|   GUEST GUEST|Tennis Court 1|\n|   GUEST GUEST|Tennis Court 2|\n|Gerald Butters|Tennis Court 1|\n|Gerald Butters|Tennis Court 2|\n+--------------+--------------+\nonly showing top 20 rows\n\n"
     ]
    }
   ],
   "source": [
    "#SQL version for reference\n",
    "\n",
    "data1= spark.sql(\"select distinct m.firstname ||' '|| m.surname as member, f.name as facility from  members m inner join booking b on \\\n",
    "                 m.memid=b.memid inner join facilities f on b.facid =f.facid where f.name in ('Tennis Court 1','Tennis Court 2') order by \\\n",
    "                 member,facility asc\")\n",
    "data1.distinct().show()  "
   ]
  },
  {
   "cell_type": "code",
   "execution_count": 0,
   "metadata": {
    "application/vnd.databricks.v1+cell": {
     "cellMetadata": {
      "byteLimit": 2048000,
      "rowLimit": 10000
     },
     "inputWidgets": {},
     "nuid": "6288ba57-3637-45aa-afbf-32331df4347e",
     "showTitle": false,
     "title": ""
    }
   },
   "outputs": [
    {
     "output_type": "stream",
     "name": "stdout",
     "output_type": "stream",
     "text": [
      "+--------------------+---------------+\n|              member|    recommender|\n+--------------------+---------------+\n|      Anna Mackenzie|   Darren Smith|\n|          Anne Baker|Ponder Stibbons|\n|        Burton Tracy|               |\n|        Charles Owen|   Darren Smith|\n|        Darren Smith|               |\n|        Darren Smith|               |\n|       David Farrell|               |\n|         David Jones|Janice Joplette|\n|        David Pinker| Jemima Farrell|\n|       Douglas Jones|    David Jones|\n|       Erica Crumpet|    Tracy Smith|\n|      Florence Bader|Ponder Stibbons|\n|         GUEST GUEST|               |\n|      Gerald Butters|   Darren Smith|\n|    Henrietta Rumney|Matthew Genting|\n|Henry Worthington...|    Tracy Smith|\n| Hyacinth Tupperware|               |\n|          Jack Smith|   Darren Smith|\n|     Janice Joplette|   Darren Smith|\n|      Jemima Farrell|               |\n+--------------------+---------------+\nonly showing top 20 rows\n\n"
     ]
    }
   ],
   "source": [
    "#How can you output a list of all members, including the individual who recommended them (if any), without using any joins? Ensure that there are no duplicates in the list, and that each firstname + surname pairing is formatted as a column and ordered.\n",
    "from pyspark.sql.functions import concat,concat_ws,asc,desc\n",
    "\n",
    "mem.join(mem1, mem1.memid==mem.recommendedby, 'left')\\\n",
    "    .select(concat_ws(' ',mem.firstname,mem.surname).alias('member'),concat_ws(' ',mem1.firstname,mem1.surname).alias('recommender')).orderBy('member').show()"
   ]
  },
  {
   "cell_type": "markdown",
   "metadata": {
    "application/vnd.databricks.v1+cell": {
     "cellMetadata": {
      "byteLimit": 2048000,
      "rowLimit": 10000
     },
     "inputWidgets": {},
     "nuid": "b59a81af-735b-4895-949e-3e1da5746bc8",
     "showTitle": false,
     "title": ""
    }
   },
   "source": [
    "###Aggregation"
   ]
  },
  {
   "cell_type": "code",
   "execution_count": 0,
   "metadata": {
    "application/vnd.databricks.v1+cell": {
     "cellMetadata": {
      "byteLimit": 2048000,
      "rowLimit": 10000
     },
     "inputWidgets": {},
     "nuid": "77e03d37-3be1-4e02-a510-f911bf53c7e3",
     "showTitle": false,
     "title": ""
    }
   },
   "outputs": [
    {
     "output_type": "stream",
     "name": "stdout",
     "output_type": "stream",
     "text": [
      "+------+-----+-----+-------------------+-----+\n|bookid|facid|memid|          starttime|slots|\n+------+-----+-----+-------------------+-----+\n|     0|    3|    1|2012-07-03 11:00:00|    2|\n|     1|    4|    1|2012-07-03 08:00:00|    2|\n|     2|    6|    0|2012-07-03 18:00:00|    2|\n|     3|    7|    1|2012-07-03 19:00:00|    2|\n|     4|    8|    1|2012-07-03 10:00:00|    1|\n+------+-----+-----+-------------------+-----+\nonly showing top 5 rows\n\n+-----+--------+---------+--------------------+-------+--------------+-------------+-------------------+\n|memid| surname|firstname|             address|zipcode|     telephone|recommendedby|           joindate|\n+-----+--------+---------+--------------------+-------+--------------+-------------+-------------------+\n|    0|   GUEST|    GUEST|               GUEST|      0|(000) 000-0000|         null|2012-07-01 00:00:00|\n|    1|   Smith|   Darren|8 Bloomsbury Clos...|   4321|  555-555-5555|         null|2012-07-02 12:02:00|\n|    2|   Smith|    Tracy|8 Bloomsbury Clos...|   4321|  555-555-5555|         null|2012-07-02 12:08:00|\n|    3|  Rownam|      Tim|23 Highway Way, B...|  23423|(844) 693-0723|         null|2012-07-03 09:32:00|\n|    4|Joplette|   Janice|20 Crossing Road,...|    234|(833) 942-4710|            1|2012-07-03 10:25:00|\n+-----+--------+---------+--------------------+-------+--------------+-------------+-------------------+\nonly showing top 5 rows\n\n+-----+--------+---------+--------------------+-------+--------------+-------------+-------------------+\n|memid| surname|firstname|             address|zipcode|     telephone|recommendedby|           joindate|\n+-----+--------+---------+--------------------+-------+--------------+-------------+-------------------+\n|    0|   GUEST|    GUEST|               GUEST|      0|(000) 000-0000|         null|2012-07-01 00:00:00|\n|    1|   Smith|   Darren|8 Bloomsbury Clos...|   4321|  555-555-5555|         null|2012-07-02 12:02:00|\n|    2|   Smith|    Tracy|8 Bloomsbury Clos...|   4321|  555-555-5555|         null|2012-07-02 12:08:00|\n|    3|  Rownam|      Tim|23 Highway Way, B...|  23423|(844) 693-0723|         null|2012-07-03 09:32:00|\n|    4|Joplette|   Janice|20 Crossing Road,...|    234|(833) 942-4710|            1|2012-07-03 10:25:00|\n+-----+--------+---------+--------------------+-------+--------------+-------------+-------------------+\nonly showing top 5 rows\n\n+-----+---------------+----------+---------+-------------+------------------+\n|facid|           name|membercost|guestcost|initialoutlay|monthlymaintenance|\n+-----+---------------+----------+---------+-------------+------------------+\n|    0| Tennis Court 1|       5.0|     25.0|        10000|               200|\n|    1| Tennis Court 2|       5.0|     25.0|         8000|               200|\n|    2|Badminton Court|       0.0|     15.5|         4000|                50|\n|    3|   Table Tennis|       0.0|      5.0|          320|                10|\n|    4| Massage Room 1|      35.0|     80.0|         4000|              3000|\n+-----+---------------+----------+---------+-------------+------------------+\nonly showing top 5 rows\n\n"
     ]
    }
   ],
   "source": [
    "\n",
    "bk = spark.sql(\"select * from booking\")\n",
    "bk.show(5)\n",
    "mem= spark.sql(\"SELECT* FROM members\")\n",
    "mem.show(5)\n",
    "mem1= spark.sql(\"SELECT* FROM members\")\n",
    "mem1.show(5)\n",
    "fac= spark.sql(\"select * from facilities\")\n",
    "fac.show(5)"
   ]
  },
  {
   "cell_type": "code",
   "execution_count": 0,
   "metadata": {
    "application/vnd.databricks.v1+cell": {
     "cellMetadata": {
      "byteLimit": 2048000,
      "rowLimit": 10000
     },
     "inputWidgets": {},
     "nuid": "bbb16546-1305-4930-b8cc-c3edfef146a6",
     "showTitle": false,
     "title": ""
    }
   },
   "outputs": [
    {
     "output_type": "stream",
     "name": "stdout",
     "output_type": "stream",
     "text": [
      "+-------------+-----+\n|recommendedby|count|\n+-------------+-----+\n|            1|    5|\n|            2|    3|\n|            3|    1|\n|            4|    2|\n|            5|    1|\n|            6|    1|\n|            9|    2|\n|           11|    1|\n|           13|    2|\n|           15|    1|\n|           16|    1|\n|           20|    1|\n|           30|    1|\n+-------------+-----+\n\n"
     ]
    }
   ],
   "source": [
    "#Produce a count of the number of recommendations each member has made. Order by member ID.\n",
    "\n",
    "rec= mem.groupBy(\"recommendedby\").count().orderBy('recommendedby')\n",
    "rec.filter(mem.recommendedby > 0).show()"
   ]
  },
  {
   "cell_type": "code",
   "execution_count": 0,
   "metadata": {
    "application/vnd.databricks.v1+cell": {
     "cellMetadata": {
      "byteLimit": 2048000,
      "rowLimit": 10000
     },
     "inputWidgets": {},
     "nuid": "f06a8ee5-5d0e-430d-8422-33039ba3cc4d",
     "showTitle": false,
     "title": ""
    }
   },
   "outputs": [
    {
     "output_type": "stream",
     "name": "stdout",
     "output_type": "stream",
     "text": [
      "+-----+----------+\n|facid|sum(slots)|\n+-----+----------+\n|    0|      1320|\n|    1|      1278|\n|    2|      1209|\n|    3|       830|\n|    4|      1404|\n|    5|       228|\n|    6|      1104|\n|    7|       908|\n|    8|       911|\n+-----+----------+\n\n"
     ]
    }
   ],
   "source": [
    "#Produce a list of the total number of slots booked per facility. For now, just produce an output table consisting of facility id and slots, sorted by facility id.\n",
    "\n",
    "bk.groupBy('facid').sum('slots').orderBy('facid').show()\n"
   ]
  },
  {
   "cell_type": "code",
   "execution_count": 0,
   "metadata": {
    "application/vnd.databricks.v1+cell": {
     "cellMetadata": {
      "byteLimit": 2048000,
      "rowLimit": 10000
     },
     "inputWidgets": {},
     "nuid": "f8fbd543-503f-47b9-be94-03869f9600ee",
     "showTitle": false,
     "title": ""
    }
   },
   "outputs": [
    {
     "output_type": "stream",
     "name": "stdout",
     "output_type": "stream",
     "text": [
      "+-----+----------+\n|facid|sum(slots)|\n+-----+----------+\n|    1|       588|\n|    6|       540|\n|    3|       422|\n|    5|       122|\n|    4|       648|\n|    8|       471|\n|    7|       426|\n|    2|       570|\n|    0|       591|\n+-----+----------+\n\n"
     ]
    }
   ],
   "source": [
    "#Produce a list of the total number of slots booked per facility in the month of September 2012. Produce an output table consisting of facility id and slots, sorted by the number of slots.\n",
    "# \n",
    "from pyspark.sql.functions import col\n",
    "septbk= bk.filter(\n",
    "    (col(\"starttime\") >= \"2012-09-01\") & (col(\"starttime\") < \"2012-10-01\"))\n",
    "septbk.groupBy('facid').sum('slots').show()\n"
   ]
  },
  {
   "cell_type": "code",
   "execution_count": 0,
   "metadata": {
    "application/vnd.databricks.v1+cell": {
     "cellMetadata": {
      "byteLimit": 2048000,
      "implicitDf": true,
      "rowLimit": 10000
     },
     "inputWidgets": {},
     "nuid": "d2b1d060-b783-4d65-9a75-526e37af7ed4",
     "showTitle": false,
     "title": ""
    }
   },
   "outputs": [
    {
     "output_type": "stream",
     "name": "stdout",
     "output_type": "stream",
     "text": [
      "+-----+----------+\n|facid|sum(slots)|\n+-----+----------+\n|    1|       588|\n|    6|       540|\n|    3|       422|\n|    5|       122|\n|    4|       648|\n+-----+----------+\nonly showing top 5 rows\n\n"
     ]
    }
   ],
   "source": [
    "#SQL for reference \n",
    "# \n",
    "data1= spark.sql (\"select facid, sum(slots) from booking where starttime >= '2012-09-01'\tand starttime < '2012-10-01'\\\n",
    "    \tgroup by facid\")\n",
    "data1.show(5)"
   ]
  },
  {
   "cell_type": "code",
   "execution_count": 0,
   "metadata": {
    "application/vnd.databricks.v1+cell": {
     "cellMetadata": {
      "byteLimit": 2048000,
      "rowLimit": 10000
     },
     "inputWidgets": {},
     "nuid": "279cdda7-591a-4b68-a872-caeeec6a6a9e",
     "showTitle": false,
     "title": ""
    }
   },
   "outputs": [
    {
     "output_type": "stream",
     "name": "stdout",
     "output_type": "stream",
     "text": [
      "+-----+-----+----------+\n|facid|month|sum(slots)|\n+-----+-----+----------+\n|    0|    7|       270|\n|    0|    8|       459|\n|    0|    9|       591|\n|    1|    7|       207|\n|    1|    8|       483|\n|    1|    9|       588|\n|    2|    7|       180|\n|    2|    8|       459|\n|    2|    9|       570|\n|    3|    7|       104|\n|    3|    8|       304|\n|    3|    9|       422|\n|    4|    7|       264|\n|    4|    8|       492|\n|    4|    9|       648|\n|    5|    7|        24|\n|    5|    8|        82|\n|    5|    9|       122|\n|    6|    7|       164|\n|    6|    8|       400|\n+-----+-----+----------+\nonly showing top 20 rows\n\n"
     ]
    }
   ],
   "source": [
    "#Produce a list of the total number of slots booked per facility per month in the year of 2012. Produce an output table consisting of facility id and slots, sorted by the id and month.\n",
    "\n",
    "from pyspark.sql.functions import year, month, col\n",
    "\n",
    "bwym = bk.withColumn(\"year\", year(\"starttime\")) \\\n",
    "        .withColumn(\"month\", month(\"starttime\"))\n",
    "bwym.filter(col('year') == 2012).groupBy('facid','month').sum('slots').orderBy('facid','month').show()"
   ]
  },
  {
   "cell_type": "code",
   "execution_count": 0,
   "metadata": {
    "application/vnd.databricks.v1+cell": {
     "cellMetadata": {
      "byteLimit": 2048000,
      "implicitDf": true,
      "rowLimit": 10000
     },
     "inputWidgets": {},
     "nuid": "a1d30918-c561-4431-ba06-78e90ddb4723",
     "showTitle": false,
     "title": ""
    }
   },
   "outputs": [
    {
     "output_type": "stream",
     "name": "stdout",
     "output_type": "stream",
     "text": [
      "Total members with at least one booking: 30\n"
     ]
    }
   ],
   "source": [
    "#Find the total number of members (including guests) who have made at least one booking.\n",
    "\n",
    "from pyspark.sql.functions import count,col\n",
    "\n",
    "distinct_member_bookings = bk.groupBy(\"memid\").agg(count(\"*\").alias(\"count\"))\n",
    "\n",
    "# Filter for members with at least one booking\n",
    "members_with_bookings = distinct_member_bookings.where(col(\"count\") >= 1)\n",
    "\n",
    "# Get the total count of members with bookings\n",
    "total_members_with_bookings = members_with_bookings.count()\n",
    "\n",
    "print(\"Total members with at least one booking:\", total_members_with_bookings)\n"
   ]
  },
  {
   "cell_type": "code",
   "execution_count": 0,
   "metadata": {
    "application/vnd.databricks.v1+cell": {
     "cellMetadata": {
      "byteLimit": 2048000,
      "rowLimit": 10000
     },
     "inputWidgets": {},
     "nuid": "32773f7e-b4fe-4032-a26a-e9831fd6a7e7",
     "showTitle": false,
     "title": ""
    }
   },
   "outputs": [
    {
     "output_type": "stream",
     "name": "stdout",
     "output_type": "stream",
     "text": [
      "+---------+---------+-----+-------------------+\n|  surname|firstname|memid|     min(starttime)|\n+---------+---------+-----+-------------------+\n|    GUEST|    GUEST|    0|2012-09-01 08:00:00|\n|    Smith|   Darren|    1|2012-09-01 09:00:00|\n|    Smith|    Tracy|    2|2012-09-01 11:30:00|\n|   Rownam|      Tim|    3|2012-09-01 16:00:00|\n| Joplette|   Janice|    4|2012-09-01 15:00:00|\n|  Butters|   Gerald|    5|2012-09-02 12:30:00|\n|    Tracy|   Burton|    6|2012-09-01 15:00:00|\n|     Dare|    Nancy|    7|2012-09-01 12:30:00|\n|   Boothe|      Tim|    8|2012-09-01 08:30:00|\n| Stibbons|   Ponder|    9|2012-09-01 11:00:00|\n|     Owen|  Charles|   10|2012-09-01 11:00:00|\n|    Jones|    David|   11|2012-09-01 09:30:00|\n|    Baker|     Anne|   12|2012-09-01 14:30:00|\n|  Farrell|   Jemima|   13|2012-09-01 09:30:00|\n|    Smith|     Jack|   14|2012-09-01 11:00:00|\n|    Bader| Florence|   15|2012-09-01 10:30:00|\n|    Baker|  Timothy|   16|2012-09-01 15:00:00|\n|   Pinker|    David|   17|2012-09-01 08:30:00|\n|  Genting|  Matthew|   20|2012-09-01 18:00:00|\n|Mackenzie|     Anna|   21|2012-09-01 08:30:00|\n+---------+---------+-----+-------------------+\nonly showing top 20 rows\n\n"
     ]
    }
   ],
   "source": [
    "#Produce a list of each member name, id, and their first booking after September 1st 2012. Order by member ID.\n",
    "from pyspark.sql.functions import min,max,col\n",
    "\n",
    "data = mem.join(bk, mem.memid==bk.memid, 'inner').select(mem.surname,mem.firstname, mem.memid, bk.starttime).filter(bk.starttime >= '2012-09-01')\n",
    "\n",
    "data.groupBy('surname','firstname','memid').agg(min(\"starttime\")).orderBy('memid').show()"
   ]
  },
  {
   "cell_type": "markdown",
   "metadata": {
    "application/vnd.databricks.v1+cell": {
     "cellMetadata": {
      "byteLimit": 2048000,
      "rowLimit": 10000
     },
     "inputWidgets": {},
     "nuid": "0d8ee92f-7225-4e25-bdf5-59d02a122784",
     "showTitle": false,
     "title": ""
    }
   },
   "source": [
    "###String & Date"
   ]
  },
  {
   "cell_type": "code",
   "execution_count": 0,
   "metadata": {
    "application/vnd.databricks.v1+cell": {
     "cellMetadata": {
      "byteLimit": 2048000,
      "rowLimit": 10000
     },
     "inputWidgets": {},
     "nuid": "2539d07c-9c6e-4edd-bf89-260409c3bed9",
     "showTitle": false,
     "title": ""
    }
   },
   "outputs": [
    {
     "output_type": "stream",
     "name": "stdout",
     "output_type": "stream",
     "text": [
      "+---------------+\n|           name|\n+---------------+\n|    GUEST,GUEST|\n|   Smith,Darren|\n|    Smith,Tracy|\n|     Rownam,Tim|\n|Joplette,Janice|\n| Butters,Gerald|\n|   Tracy,Burton|\n|     Dare,Nancy|\n|     Boothe,Tim|\n|Stibbons,Ponder|\n|   Owen,Charles|\n|    Jones,David|\n|     Baker,Anne|\n| Farrell,Jemima|\n|     Smith,Jack|\n| Bader,Florence|\n|  Baker,Timothy|\n|   Pinker,David|\n|Genting,Matthew|\n| Mackenzie,Anna|\n+---------------+\nonly showing top 20 rows\n\n"
     ]
    }
   ],
   "source": [
    "#Output the names of all members, formatted as 'Surname, Firstname'\n",
    "\n",
    "from pyspark.sql.functions import concat,concat_ws,asc,desc\n",
    "\n",
    "mem.select(concat_ws(',',mem.surname,mem.firstname).alias('name')).show()"
   ]
  },
  {
   "cell_type": "code",
   "execution_count": 0,
   "metadata": {
    "application/vnd.databricks.v1+cell": {
     "cellMetadata": {
      "byteLimit": 2048000,
      "rowLimit": 10000
     },
     "inputWidgets": {},
     "nuid": "396ca61c-7aee-45e5-85d1-73326c114005",
     "showTitle": false,
     "title": ""
    }
   },
   "outputs": [
    {
     "output_type": "stream",
     "name": "stdout",
     "output_type": "stream",
     "text": [
      "+-----+--------------+----------+---------+-------------+------------------+\n|facid|          name|membercost|guestcost|initialoutlay|monthlymaintenance|\n+-----+--------------+----------+---------+-------------+------------------+\n|    0|Tennis Court 1|       5.0|     25.0|        10000|               200|\n|    1|Tennis Court 2|       5.0|     25.0|         8000|               200|\n+-----+--------------+----------+---------+-------------+------------------+\n\n"
     ]
    }
   ],
   "source": [
    "#Perform a case-insensitive search to find all facilities whose name begins with 'tennis'. Retrieve all columns.\n",
    "from pyspark.sql.functions import upper,lower,col\n",
    "\n",
    "filtered_facilities = fac.filter(fac.name.startswith(\"Tennis\"))\n",
    "filtered_facilities.show()\n"
   ]
  },
  {
   "cell_type": "code",
   "execution_count": 0,
   "metadata": {
    "application/vnd.databricks.v1+cell": {
     "cellMetadata": {
      "byteLimit": 2048000,
      "rowLimit": 10000
     },
     "inputWidgets": {},
     "nuid": "20f81505-a656-4343-9244-4f32e7b401d7",
     "showTitle": false,
     "title": ""
    }
   },
   "outputs": [
    {
     "output_type": "stream",
     "name": "stdout",
     "output_type": "stream",
     "text": [
      "+-----+--------------+\n|memid|     telephone|\n+-----+--------------+\n|    0|(000) 000-0000|\n|    3|(844) 693-0723|\n|    4|(833) 942-4710|\n|    5|(844) 078-4130|\n|    6|(822) 354-9973|\n|    7|(833) 776-4001|\n|    8|(811) 433-2547|\n|    9|(833) 160-3900|\n|   10|(855) 542-5251|\n|   11|(844) 536-8036|\n|   13|(855) 016-0163|\n|   14|(822) 163-3254|\n|   15|(833) 499-3527|\n|   20|(811) 972-1377|\n|   21|(822) 661-2898|\n|   22|(822) 499-2232|\n|   24|(822) 413-1470|\n|   27|(822) 989-8876|\n|   28|(855) 755-9876|\n|   29|(855) 894-3758|\n+-----+--------------+\nonly showing top 20 rows\n\n"
     ]
    }
   ],
   "source": [
    "#You've noticed that the club's member table has telephone numbers with very inconsistent formatting. You'd like to find all the telephone numbers that contain parentheses, returning the member ID and telephone number sorted by member ID.\n",
    "\n",
    "from pyspark.sql.functions import col, regexp_extract\n",
    "\n",
    "\n",
    "# Define a regular expression to extract telephone numbers with parentheses\n",
    "telephone_pattern = r'\\((\\d+)\\)'\n",
    "\n",
    "# Extract telephone numbers using regexp_extract and create a new column 'telephone_number'\n",
    "members_with_telephone = mem.withColumn(\n",
    "    \"telephone_number\",regexp_extract(col(\"telephone\"), telephone_pattern, 1))\n",
    "    \n",
    "\n",
    "# Filter rows where telephone numbers were found\n",
    "members_with_parentheses = members_with_telephone.filter(col(\"telephone_number\") != \"\")\n",
    "\n",
    "    # Select and order by member ID and telephone number\n",
    "result_df = members_with_parentheses.select(\"memid\", \"telephone\").orderBy(\"memid\")\n",
    "\n",
    "    # Show the result\n",
    "result_df.show()\n",
    "\n"
   ]
  },
  {
   "cell_type": "code",
   "execution_count": 0,
   "metadata": {
    "application/vnd.databricks.v1+cell": {
     "cellMetadata": {
      "byteLimit": 2048000,
      "rowLimit": 10000
     },
     "inputWidgets": {},
     "nuid": "8326a41d-8441-4243-91f0-313da8cc3465",
     "showTitle": false,
     "title": ""
    }
   },
   "outputs": [
    {
     "output_type": "stream",
     "name": "stdout",
     "output_type": "stream",
     "text": [
      "+------+-------------+\n|letter|count(letter)|\n+------+-------------+\n|     B|            5|\n|     C|            2|\n|     D|            1|\n|     F|            2|\n|     G|            2|\n|     H|            1|\n|     J|            3|\n|     M|            1|\n|     O|            1|\n|     P|            2|\n|     R|            2|\n|     S|            6|\n|     T|            2|\n|     W|            1|\n+------+-------------+\n\n"
     ]
    }
   ],
   "source": [
    "#You'd like to produce a count of how many members you have whose surname starts with each letter of the alphabet. Sort by the letter, and don't worry about printing out a letter if the count is 0.\n",
    "\n",
    "\n",
    "from pyspark.sql.functions import substring,count\n",
    "\n",
    "data= mem.withColumn('letter', substring('surname', 1,1))\n",
    "\n",
    "data.groupBy('letter').agg(count(data.letter)).orderBy(data.letter).show()"
   ]
  },
  {
   "cell_type": "code",
   "execution_count": 0,
   "metadata": {
    "application/vnd.databricks.v1+cell": {
     "cellMetadata": {
      "byteLimit": 2048000,
      "rowLimit": 10000
     },
     "inputWidgets": {},
     "nuid": "42ed6640-c693-4044-8903-641ff96dd5f0",
     "showTitle": false,
     "title": ""
    }
   },
   "outputs": [
    {
     "output_type": "stream",
     "name": "stdout",
     "output_type": "stream",
     "text": [
      "+-------------------+\n|         timestampe|\n+-------------------+\n|2012-10-01 00:00:00|\n|2012-10-02 00:00:00|\n|2012-10-03 00:00:00|\n|2012-10-04 00:00:00|\n|2012-10-05 00:00:00|\n|2012-10-06 00:00:00|\n|2012-10-07 00:00:00|\n|2012-10-08 00:00:00|\n|2012-10-09 00:00:00|\n|2012-10-10 00:00:00|\n|2012-10-11 00:00:00|\n|2012-10-12 00:00:00|\n|2012-10-13 00:00:00|\n|2012-10-14 00:00:00|\n|2012-10-15 00:00:00|\n|2012-10-16 00:00:00|\n|2012-10-17 00:00:00|\n|2012-10-18 00:00:00|\n|2012-10-19 00:00:00|\n|2012-10-20 00:00:00|\n+-------------------+\nonly showing top 20 rows\n\n"
     ]
    }
   ],
   "source": [
    "#Produce a list of all the dates in October 2012. They can be output as a timestamp (with time set to midnight) or a date.\n",
    "from pyspark.sql.functions import expr\n",
    "# Create a DataFrame with a single column containing the dates in October 2012\n",
    "dates_df = spark.range(1, 32).select(expr(\"'2012-10-' || id as date\"))\n",
    "\n",
    "# Show the list of dates\n",
    "dates_df. select(expr(\"cast(date as timestamp) as timestampe\")).show()"
   ]
  },
  {
   "cell_type": "code",
   "execution_count": 0,
   "metadata": {
    "application/vnd.databricks.v1+cell": {
     "cellMetadata": {
      "byteLimit": 2048000,
      "rowLimit": 10000
     },
     "inputWidgets": {},
     "nuid": "d317e56f-ccca-482c-816f-3b0dc2128be5",
     "showTitle": false,
     "title": ""
    }
   },
   "outputs": [
    {
     "output_type": "stream",
     "name": "stdout",
     "output_type": "stream",
     "text": [
      "+-----+-----+\n|month|count|\n+-----+-----+\n|    1|    1|\n|    7|  658|\n|    8| 1472|\n|    9| 1913|\n+-----+-----+\n\n"
     ]
    }
   ],
   "source": [
    "#Return a count of bookings for each month, sorted by month\n",
    "\n",
    "bwym = bk.withColumn(\"month\", month(\"starttime\"))\n",
    "\n",
    "bwym.groupBy('month').count().orderBy('month').show()"
   ]
  }
 ],
 "metadata": {
  "application/vnd.databricks.v1+notebook": {
   "dashboards": [],
   "language": "python",
   "notebookMetadata": {
    "mostRecentlyExecutedCommandWithImplicitDF": {
     "commandId": -1,
     "dataframes": [
      "_sqldf"
     ]
    },
    "pythonIndentUnit": 4
   },
   "notebookName": "1 - Spark Dataframe Data Manipulation (pgexercises)",
   "widgets": {}
  }
 },
 "nbformat": 4,
 "nbformat_minor": 0
}
